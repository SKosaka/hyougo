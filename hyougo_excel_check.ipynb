{
  "nbformat": 4,
  "nbformat_minor": 0,
  "metadata": {
    "colab": {
      "name": "hyougo_excel_check.ipynb",
      "provenance": [],
      "collapsed_sections": [],
      "toc_visible": true,
      "authorship_tag": "ABX9TyOK/OJzlCukQsmVYhhCVKbJ",
      "include_colab_link": true
    },
    "kernelspec": {
      "name": "python3",
      "display_name": "Python 3"
    }
  },
  "cells": [
    {
      "cell_type": "markdown",
      "metadata": {
        "id": "view-in-github",
        "colab_type": "text"
      },
      "source": [
        "<a href=\"https://colab.research.google.com/github/imabari/hyougo/blob/master/hyougo_excel_check.ipynb\" target=\"_parent\"><img src=\"https://colab.research.google.com/assets/colab-badge.svg\" alt=\"Open In Colab\"/></a>"
      ]
    },
    {
      "cell_type": "markdown",
      "metadata": {
        "id": "JI61IuYf-LyM",
        "colab_type": "text"
      },
      "source": [
        "# 検査陽性者の状況"
      ]
    },
    {
      "cell_type": "code",
      "metadata": {
        "id": "W-X3Y3cxp4Sg",
        "colab_type": "code",
        "colab": {}
      },
      "source": [
        "import pandas as pd\n",
        "import datetime"
      ],
      "execution_count": 0,
      "outputs": []
    },
    {
      "cell_type": "code",
      "metadata": {
        "id": "lgm-5tIwuiJM",
        "colab_type": "code",
        "outputId": "2703eb79-da16-489b-f1f7-9caa2d826c1c",
        "colab": {
          "base_uri": "https://localhost:8080/",
          "height": 204
        }
      },
      "source": [
        "# ファイルをダウンロード\n",
        "!wget --tries=3 https://web.pref.hyogo.lg.jp/kk03/documents/yousei.xlsx -O yousei.xlsx"
      ],
      "execution_count": 0,
      "outputs": [
        {
          "output_type": "stream",
          "text": [
            "--2020-03-29 11:59:31--  https://web.pref.hyogo.lg.jp/kk03/documents/yousei.xlsx\n",
            "Resolving web.pref.hyogo.lg.jp (web.pref.hyogo.lg.jp)... 210.130.236.38\n",
            "Connecting to web.pref.hyogo.lg.jp (web.pref.hyogo.lg.jp)|210.130.236.38|:443... connected.\n",
            "HTTP request sent, awaiting response... 200 OK\n",
            "Length: 11750 (11K) [application/vnd.openxmlformats-officedocument.spreadsheetml.sheet]\n",
            "Saving to: ‘yousei.xlsx’\n",
            "\n",
            "yousei.xlsx         100%[===================>]  11.47K  --.-KB/s    in 0s      \n",
            "\n",
            "2020-03-29 11:59:39 (65.8 MB/s) - ‘yousei.xlsx’ saved [11750/11750]\n",
            "\n"
          ],
          "name": "stdout"
        }
      ]
    },
    {
      "cell_type": "code",
      "metadata": {
        "id": "rAAiVj4qitcj",
        "colab_type": "code",
        "colab": {}
      },
      "source": [
        "df0 = pd.read_excel(\"yousei.xlsx\", index_col=\"発表年月日\")"
      ],
      "execution_count": 0,
      "outputs": []
    },
    {
      "cell_type": "code",
      "metadata": {
        "id": "m4oKMQoO903e",
        "colab_type": "code",
        "colab": {}
      },
      "source": [
        "df0.columns = df0.columns.map(lambda s: s.replace(\"（累計）\", \"\").strip())"
      ],
      "execution_count": 0,
      "outputs": []
    },
    {
      "cell_type": "code",
      "metadata": {
        "id": "A2kO6iF3JhY2",
        "colab_type": "code",
        "colab": {}
      },
      "source": [
        "df0.to_csv(\"yousei.tsv\", sep=\"\\t\")"
      ],
      "execution_count": 0,
      "outputs": []
    },
    {
      "cell_type": "markdown",
      "metadata": {
        "id": "Gb_R1ElSki7D",
        "colab_type": "text"
      },
      "source": [
        "## 検査陽性者の状況（EXCEL）"
      ]
    },
    {
      "cell_type": "code",
      "metadata": {
        "id": "WhA3M4XIuBBN",
        "colab_type": "code",
        "outputId": "332a730c-912a-4db7-fd90-c5a04e1e9fa5",
        "colab": {
          "base_uri": "https://localhost:8080/",
          "height": 173
        }
      },
      "source": [
        "df0.tail(3)"
      ],
      "execution_count": 0,
      "outputs": [
        {
          "output_type": "execute_result",
          "data": {
            "text/html": [
              "<div>\n",
              "<style scoped>\n",
              "    .dataframe tbody tr th:only-of-type {\n",
              "        vertical-align: middle;\n",
              "    }\n",
              "\n",
              "    .dataframe tbody tr th {\n",
              "        vertical-align: top;\n",
              "    }\n",
              "\n",
              "    .dataframe thead th {\n",
              "        text-align: right;\n",
              "    }\n",
              "</style>\n",
              "<table border=\"1\" class=\"dataframe\">\n",
              "  <thead>\n",
              "    <tr style=\"text-align: right;\">\n",
              "      <th></th>\n",
              "      <th>発表時間</th>\n",
              "      <th>検査実施人数</th>\n",
              "      <th>陽性者数</th>\n",
              "      <th>入院中</th>\n",
              "      <th>中等症以下</th>\n",
              "      <th>重症</th>\n",
              "      <th>死亡</th>\n",
              "      <th>退院</th>\n",
              "    </tr>\n",
              "    <tr>\n",
              "      <th>発表年月日</th>\n",
              "      <th></th>\n",
              "      <th></th>\n",
              "      <th></th>\n",
              "      <th></th>\n",
              "      <th></th>\n",
              "      <th></th>\n",
              "      <th></th>\n",
              "      <th></th>\n",
              "    </tr>\n",
              "  </thead>\n",
              "  <tbody>\n",
              "    <tr>\n",
              "      <th>2020-03-26</th>\n",
              "      <td>24時</td>\n",
              "      <td>2121</td>\n",
              "      <td>120</td>\n",
              "      <td>96</td>\n",
              "      <td>88</td>\n",
              "      <td>8</td>\n",
              "      <td>7</td>\n",
              "      <td>17</td>\n",
              "    </tr>\n",
              "    <tr>\n",
              "      <th>2020-03-27</th>\n",
              "      <td>24時</td>\n",
              "      <td>2282</td>\n",
              "      <td>123</td>\n",
              "      <td>97</td>\n",
              "      <td>91</td>\n",
              "      <td>6</td>\n",
              "      <td>9</td>\n",
              "      <td>17</td>\n",
              "    </tr>\n",
              "    <tr>\n",
              "      <th>2020-03-28</th>\n",
              "      <td>24時</td>\n",
              "      <td>2382</td>\n",
              "      <td>126</td>\n",
              "      <td>99</td>\n",
              "      <td>93</td>\n",
              "      <td>6</td>\n",
              "      <td>10</td>\n",
              "      <td>17</td>\n",
              "    </tr>\n",
              "  </tbody>\n",
              "</table>\n",
              "</div>"
            ],
            "text/plain": [
              "           発表時間  検査実施人数  陽性者数  入院中  中等症以下  重症  死亡  退院\n",
              "発表年月日                                                \n",
              "2020-03-26  24時    2121   120   96     88   8   7  17\n",
              "2020-03-27  24時    2282   123   97     91   6   9  17\n",
              "2020-03-28  24時    2382   126   99     93   6  10  17"
            ]
          },
          "metadata": {
            "tags": []
          },
          "execution_count": 9
        }
      ]
    },
    {
      "cell_type": "code",
      "metadata": {
        "id": "tKKa_7k_v0Tn",
        "colab_type": "code",
        "colab": {}
      },
      "source": [
        "df0.drop(\"発表時間\", axis=1, inplace=True)"
      ],
      "execution_count": 0,
      "outputs": []
    },
    {
      "cell_type": "markdown",
      "metadata": {
        "id": "GRd8Co8nBPlF",
        "colab_type": "text"
      },
      "source": [
        "# PCR検査数"
      ]
    },
    {
      "cell_type": "code",
      "metadata": {
        "id": "K57RGURP28qL",
        "colab_type": "code",
        "outputId": "6d659464-2a78-4d7b-9c97-ea59bc44e2cf",
        "colab": {
          "base_uri": "https://localhost:8080/",
          "height": 204
        }
      },
      "source": [
        "# ファイルをダウンロード\n",
        "!wget --tries=3 https://web.pref.hyogo.lg.jp/kk03/documents/pcr.xlsx -O pcr.xlsx"
      ],
      "execution_count": 0,
      "outputs": [
        {
          "output_type": "stream",
          "text": [
            "--2020-03-29 11:59:41--  https://web.pref.hyogo.lg.jp/kk03/documents/pcr.xlsx\n",
            "Resolving web.pref.hyogo.lg.jp (web.pref.hyogo.lg.jp)... 210.130.236.38\n",
            "Connecting to web.pref.hyogo.lg.jp (web.pref.hyogo.lg.jp)|210.130.236.38|:443... connected.\n",
            "HTTP request sent, awaiting response... 200 OK\n",
            "Length: 10058 (9.8K) [application/vnd.openxmlformats-officedocument.spreadsheetml.sheet]\n",
            "Saving to: ‘pcr.xlsx’\n",
            "\n",
            "pcr.xlsx            100%[===================>]   9.82K  --.-KB/s    in 0s      \n",
            "\n",
            "2020-03-29 11:59:46 (121 MB/s) - ‘pcr.xlsx’ saved [10058/10058]\n",
            "\n"
          ],
          "name": "stdout"
        }
      ]
    },
    {
      "cell_type": "code",
      "metadata": {
        "id": "nRqCwJDN_MDv",
        "colab_type": "code",
        "colab": {}
      },
      "source": [
        "df1 = pd.read_excel(\"pcr.xlsx\", index_col=\"年月日\").fillna(0).astype(int)"
      ],
      "execution_count": 0,
      "outputs": []
    },
    {
      "cell_type": "code",
      "metadata": {
        "id": "4ZhDTE_PJrWp",
        "colab_type": "code",
        "colab": {}
      },
      "source": [
        "df1.to_csv(\"pcr.tsv\", sep=\"\\t\")"
      ],
      "execution_count": 0,
      "outputs": []
    },
    {
      "cell_type": "markdown",
      "metadata": {
        "id": "n-1vCiCc_rRB",
        "colab_type": "text"
      },
      "source": [
        "## PCR検査日別件数（直近10件）\n",
        "\n",
        "+ 最新日付を確認\n",
        "+ 陽性患者数を確認\n",
        "+ 検査実施数を確認"
      ]
    },
    {
      "cell_type": "code",
      "metadata": {
        "id": "Ui4fPlJE_UO8",
        "colab_type": "code",
        "outputId": "92d05dbe-9187-4432-becb-93cefd4f6403",
        "colab": {
          "base_uri": "https://localhost:8080/",
          "height": 390
        }
      },
      "source": [
        "# 日別\n",
        "df1.tail(10)"
      ],
      "execution_count": 0,
      "outputs": [
        {
          "output_type": "execute_result",
          "data": {
            "text/html": [
              "<div>\n",
              "<style scoped>\n",
              "    .dataframe tbody tr th:only-of-type {\n",
              "        vertical-align: middle;\n",
              "    }\n",
              "\n",
              "    .dataframe tbody tr th {\n",
              "        vertical-align: top;\n",
              "    }\n",
              "\n",
              "    .dataframe thead th {\n",
              "        text-align: right;\n",
              "    }\n",
              "</style>\n",
              "<table border=\"1\" class=\"dataframe\">\n",
              "  <thead>\n",
              "    <tr style=\"text-align: right;\">\n",
              "      <th></th>\n",
              "      <th>PCR検査件数</th>\n",
              "      <th>陽性件数</th>\n",
              "    </tr>\n",
              "    <tr>\n",
              "      <th>年月日</th>\n",
              "      <th></th>\n",
              "      <th></th>\n",
              "    </tr>\n",
              "  </thead>\n",
              "  <tbody>\n",
              "    <tr>\n",
              "      <th>2020-03-19</th>\n",
              "      <td>183</td>\n",
              "      <td>2</td>\n",
              "    </tr>\n",
              "    <tr>\n",
              "      <th>2020-03-20</th>\n",
              "      <td>124</td>\n",
              "      <td>8</td>\n",
              "    </tr>\n",
              "    <tr>\n",
              "      <th>2020-03-21</th>\n",
              "      <td>84</td>\n",
              "      <td>6</td>\n",
              "    </tr>\n",
              "    <tr>\n",
              "      <th>2020-03-22</th>\n",
              "      <td>89</td>\n",
              "      <td>4</td>\n",
              "    </tr>\n",
              "    <tr>\n",
              "      <th>2020-03-23</th>\n",
              "      <td>115</td>\n",
              "      <td>2</td>\n",
              "    </tr>\n",
              "    <tr>\n",
              "      <th>2020-03-24</th>\n",
              "      <td>133</td>\n",
              "      <td>5</td>\n",
              "    </tr>\n",
              "    <tr>\n",
              "      <th>2020-03-25</th>\n",
              "      <td>176</td>\n",
              "      <td>1</td>\n",
              "    </tr>\n",
              "    <tr>\n",
              "      <th>2020-03-26</th>\n",
              "      <td>90</td>\n",
              "      <td>1</td>\n",
              "    </tr>\n",
              "    <tr>\n",
              "      <th>2020-03-27</th>\n",
              "      <td>161</td>\n",
              "      <td>3</td>\n",
              "    </tr>\n",
              "    <tr>\n",
              "      <th>2020-03-28</th>\n",
              "      <td>100</td>\n",
              "      <td>3</td>\n",
              "    </tr>\n",
              "  </tbody>\n",
              "</table>\n",
              "</div>"
            ],
            "text/plain": [
              "            PCR検査件数  陽性件数\n",
              "年月日                      \n",
              "2020-03-19      183     2\n",
              "2020-03-20      124     8\n",
              "2020-03-21       84     6\n",
              "2020-03-22       89     4\n",
              "2020-03-23      115     2\n",
              "2020-03-24      133     5\n",
              "2020-03-25      176     1\n",
              "2020-03-26       90     1\n",
              "2020-03-27      161     3\n",
              "2020-03-28      100     3"
            ]
          },
          "metadata": {
            "tags": []
          },
          "execution_count": 14
        }
      ]
    },
    {
      "cell_type": "markdown",
      "metadata": {
        "id": "2ufxVkYbZZCY",
        "colab_type": "text"
      },
      "source": [
        "## ※PCR検査累計件数（直近10件）\n",
        "\n",
        "+ 最新日付を確認\n",
        "+ 陽性患者数を確認\n",
        "+ 検査実施数を確認"
      ]
    },
    {
      "cell_type": "code",
      "metadata": {
        "id": "r16DrHuIYRM_",
        "colab_type": "code",
        "outputId": "a5cb8441-0ed4-407f-8c02-c623192aac66",
        "colab": {
          "base_uri": "https://localhost:8080/",
          "height": 390
        }
      },
      "source": [
        "# 累計\n",
        "df1.cumsum().tail(10)"
      ],
      "execution_count": 0,
      "outputs": [
        {
          "output_type": "execute_result",
          "data": {
            "text/html": [
              "<div>\n",
              "<style scoped>\n",
              "    .dataframe tbody tr th:only-of-type {\n",
              "        vertical-align: middle;\n",
              "    }\n",
              "\n",
              "    .dataframe tbody tr th {\n",
              "        vertical-align: top;\n",
              "    }\n",
              "\n",
              "    .dataframe thead th {\n",
              "        text-align: right;\n",
              "    }\n",
              "</style>\n",
              "<table border=\"1\" class=\"dataframe\">\n",
              "  <thead>\n",
              "    <tr style=\"text-align: right;\">\n",
              "      <th></th>\n",
              "      <th>PCR検査件数</th>\n",
              "      <th>陽性件数</th>\n",
              "    </tr>\n",
              "    <tr>\n",
              "      <th>年月日</th>\n",
              "      <th></th>\n",
              "      <th></th>\n",
              "    </tr>\n",
              "  </thead>\n",
              "  <tbody>\n",
              "    <tr>\n",
              "      <th>2020-03-19</th>\n",
              "      <td>1310</td>\n",
              "      <td>93</td>\n",
              "    </tr>\n",
              "    <tr>\n",
              "      <th>2020-03-20</th>\n",
              "      <td>1434</td>\n",
              "      <td>101</td>\n",
              "    </tr>\n",
              "    <tr>\n",
              "      <th>2020-03-21</th>\n",
              "      <td>1518</td>\n",
              "      <td>107</td>\n",
              "    </tr>\n",
              "    <tr>\n",
              "      <th>2020-03-22</th>\n",
              "      <td>1607</td>\n",
              "      <td>111</td>\n",
              "    </tr>\n",
              "    <tr>\n",
              "      <th>2020-03-23</th>\n",
              "      <td>1722</td>\n",
              "      <td>113</td>\n",
              "    </tr>\n",
              "    <tr>\n",
              "      <th>2020-03-24</th>\n",
              "      <td>1855</td>\n",
              "      <td>118</td>\n",
              "    </tr>\n",
              "    <tr>\n",
              "      <th>2020-03-25</th>\n",
              "      <td>2031</td>\n",
              "      <td>119</td>\n",
              "    </tr>\n",
              "    <tr>\n",
              "      <th>2020-03-26</th>\n",
              "      <td>2121</td>\n",
              "      <td>120</td>\n",
              "    </tr>\n",
              "    <tr>\n",
              "      <th>2020-03-27</th>\n",
              "      <td>2282</td>\n",
              "      <td>123</td>\n",
              "    </tr>\n",
              "    <tr>\n",
              "      <th>2020-03-28</th>\n",
              "      <td>2382</td>\n",
              "      <td>126</td>\n",
              "    </tr>\n",
              "  </tbody>\n",
              "</table>\n",
              "</div>"
            ],
            "text/plain": [
              "            PCR検査件数  陽性件数\n",
              "年月日                      \n",
              "2020-03-19     1310    93\n",
              "2020-03-20     1434   101\n",
              "2020-03-21     1518   107\n",
              "2020-03-22     1607   111\n",
              "2020-03-23     1722   113\n",
              "2020-03-24     1855   118\n",
              "2020-03-25     2031   119\n",
              "2020-03-26     2121   120\n",
              "2020-03-27     2282   123\n",
              "2020-03-28     2382   126"
            ]
          },
          "metadata": {
            "tags": []
          },
          "execution_count": 15
        }
      ]
    },
    {
      "cell_type": "markdown",
      "metadata": {
        "id": "X4NnDEYr-Hn1",
        "colab_type": "text"
      },
      "source": [
        "## PCR検査累計と陽性累計の確認\n",
        "\n",
        "+ yousei.xlsxとpcr.xlsの最終行をチェック"
      ]
    },
    {
      "cell_type": "code",
      "metadata": {
        "id": "1DLOXOtt-IJM",
        "colab_type": "code",
        "outputId": "94b5f2df-25e4-415b-c076-0b69c7a121aa",
        "colab": {
          "base_uri": "https://localhost:8080/",
          "height": 111
        }
      },
      "source": [
        "df0.tail(1)"
      ],
      "execution_count": 0,
      "outputs": [
        {
          "output_type": "execute_result",
          "data": {
            "text/html": [
              "<div>\n",
              "<style scoped>\n",
              "    .dataframe tbody tr th:only-of-type {\n",
              "        vertical-align: middle;\n",
              "    }\n",
              "\n",
              "    .dataframe tbody tr th {\n",
              "        vertical-align: top;\n",
              "    }\n",
              "\n",
              "    .dataframe thead th {\n",
              "        text-align: right;\n",
              "    }\n",
              "</style>\n",
              "<table border=\"1\" class=\"dataframe\">\n",
              "  <thead>\n",
              "    <tr style=\"text-align: right;\">\n",
              "      <th></th>\n",
              "      <th>検査実施人数</th>\n",
              "      <th>陽性者数</th>\n",
              "      <th>入院中</th>\n",
              "      <th>中等症以下</th>\n",
              "      <th>重症</th>\n",
              "      <th>死亡</th>\n",
              "      <th>退院</th>\n",
              "    </tr>\n",
              "    <tr>\n",
              "      <th>発表年月日</th>\n",
              "      <th></th>\n",
              "      <th></th>\n",
              "      <th></th>\n",
              "      <th></th>\n",
              "      <th></th>\n",
              "      <th></th>\n",
              "      <th></th>\n",
              "    </tr>\n",
              "  </thead>\n",
              "  <tbody>\n",
              "    <tr>\n",
              "      <th>2020-03-28</th>\n",
              "      <td>2382</td>\n",
              "      <td>126</td>\n",
              "      <td>99</td>\n",
              "      <td>93</td>\n",
              "      <td>6</td>\n",
              "      <td>10</td>\n",
              "      <td>17</td>\n",
              "    </tr>\n",
              "  </tbody>\n",
              "</table>\n",
              "</div>"
            ],
            "text/plain": [
              "            検査実施人数  陽性者数  入院中  中等症以下  重症  死亡  退院\n",
              "発表年月日                                           \n",
              "2020-03-28    2382   126   99     93   6  10  17"
            ]
          },
          "metadata": {
            "tags": []
          },
          "execution_count": 16
        }
      ]
    },
    {
      "cell_type": "code",
      "metadata": {
        "id": "bfpNMSQi-Ns8",
        "colab_type": "code",
        "outputId": "b4fc0c0c-5da1-407c-fd5e-26ce95126f8f",
        "colab": {
          "base_uri": "https://localhost:8080/",
          "height": 111
        }
      },
      "source": [
        "df1.cumsum().tail(1)"
      ],
      "execution_count": 0,
      "outputs": [
        {
          "output_type": "execute_result",
          "data": {
            "text/html": [
              "<div>\n",
              "<style scoped>\n",
              "    .dataframe tbody tr th:only-of-type {\n",
              "        vertical-align: middle;\n",
              "    }\n",
              "\n",
              "    .dataframe tbody tr th {\n",
              "        vertical-align: top;\n",
              "    }\n",
              "\n",
              "    .dataframe thead th {\n",
              "        text-align: right;\n",
              "    }\n",
              "</style>\n",
              "<table border=\"1\" class=\"dataframe\">\n",
              "  <thead>\n",
              "    <tr style=\"text-align: right;\">\n",
              "      <th></th>\n",
              "      <th>PCR検査件数</th>\n",
              "      <th>陽性件数</th>\n",
              "    </tr>\n",
              "    <tr>\n",
              "      <th>年月日</th>\n",
              "      <th></th>\n",
              "      <th></th>\n",
              "    </tr>\n",
              "  </thead>\n",
              "  <tbody>\n",
              "    <tr>\n",
              "      <th>2020-03-28</th>\n",
              "      <td>2382</td>\n",
              "      <td>126</td>\n",
              "    </tr>\n",
              "  </tbody>\n",
              "</table>\n",
              "</div>"
            ],
            "text/plain": [
              "            PCR検査件数  陽性件数\n",
              "年月日                      \n",
              "2020-03-28     2382   126"
            ]
          },
          "metadata": {
            "tags": []
          },
          "execution_count": 17
        }
      ]
    },
    {
      "cell_type": "markdown",
      "metadata": {
        "id": "sAR0jOzh-xSV",
        "colab_type": "text"
      },
      "source": [
        "# 陽性患者情報"
      ]
    },
    {
      "cell_type": "code",
      "metadata": {
        "id": "h3kGMGdB8aYW",
        "colab_type": "code",
        "colab": {}
      },
      "source": [
        "import requests\n",
        "from bs4 import BeautifulSoup"
      ],
      "execution_count": 0,
      "outputs": []
    },
    {
      "cell_type": "code",
      "metadata": {
        "id": "50S9vKN285F4",
        "colab_type": "code",
        "colab": {}
      },
      "source": [
        "from urllib.parse import urljoin"
      ],
      "execution_count": 0,
      "outputs": []
    },
    {
      "cell_type": "code",
      "metadata": {
        "id": "2u0FNSiT8aMo",
        "colab_type": "code",
        "colab": {}
      },
      "source": [
        "url = \"https://web.pref.hyogo.lg.jp/kk03/corona_kanjyajyokyo.html\""
      ],
      "execution_count": 0,
      "outputs": []
    },
    {
      "cell_type": "code",
      "metadata": {
        "id": "u3V19Yx59G0G",
        "colab_type": "code",
        "colab": {}
      },
      "source": [
        "headers = {\n",
        "    \"User-Agent\": \"Mozilla/5.0 (Windows NT 10.0; WOW64; Trident/7.0; rv:11.0) like Gecko\"\n",
        "}"
      ],
      "execution_count": 0,
      "outputs": []
    },
    {
      "cell_type": "code",
      "metadata": {
        "id": "Ji_ueFSK8aT-",
        "colab_type": "code",
        "colab": {}
      },
      "source": [
        "r = requests.get(url, headers=headers)\n",
        "\n",
        "r.raise_for_status()\n",
        "\n",
        "soup = BeautifulSoup(r.content, \"html.parser\")"
      ],
      "execution_count": 0,
      "outputs": []
    },
    {
      "cell_type": "code",
      "metadata": {
        "id": "EuojDg7Y8acO",
        "colab_type": "code",
        "colab": {}
      },
      "source": [
        "tag = soup.select_one(\"a.icon_excel\")\n",
        "\n",
        "s = tag.get_text(strip=True)\n",
        "\n",
        "link = urljoin(url, tag.get(\"href\"))"
      ],
      "execution_count": 0,
      "outputs": []
    },
    {
      "cell_type": "markdown",
      "metadata": {
        "id": "tdAioCYYmhwW",
        "colab_type": "text"
      },
      "source": [
        "## ファイル名を確認\n",
        "\n",
        "+ ファイル名より最新ファイルか確認"
      ]
    },
    {
      "cell_type": "code",
      "metadata": {
        "id": "HIdOIbvwoqan",
        "colab_type": "code",
        "outputId": "2cab133e-6c6e-4459-86d6-1ad14ad8292c",
        "colab": {
          "base_uri": "https://localhost:8080/"
        }
      },
      "source": [
        "print(link)"
      ],
      "execution_count": 0,
      "outputs": [
        {
          "output_type": "stream",
          "text": [
            "https://web.pref.hyogo.lg.jp/kk03/documents/0328corona_kanjya.xlsx\n"
          ],
          "name": "stdout"
        }
      ]
    },
    {
      "cell_type": "code",
      "metadata": {
        "id": "AYBpRetDp4Pu",
        "colab_type": "code",
        "outputId": "7a09ee00-58e6-48ec-a631-1090c3793705",
        "colab": {
          "base_uri": "https://localhost:8080/",
          "height": 204
        }
      },
      "source": [
        "# 上記ファイルをダウンロード\n",
        "!wget --tries=3 $link -O kanja.xlsx"
      ],
      "execution_count": 0,
      "outputs": [
        {
          "output_type": "stream",
          "text": [
            "--2020-03-29 12:04:27--  https://web.pref.hyogo.lg.jp/kk03/documents/0328corona_kanjya.xlsx\n",
            "Resolving web.pref.hyogo.lg.jp (web.pref.hyogo.lg.jp)... 210.130.236.38\n",
            "Connecting to web.pref.hyogo.lg.jp (web.pref.hyogo.lg.jp)|210.130.236.38|:443... connected.\n",
            "HTTP request sent, awaiting response... 200 OK\n",
            "Length: 30040 (29K) [application/vnd.openxmlformats-officedocument.spreadsheetml.sheet]\n",
            "Saving to: ‘kanja.xlsx’\n",
            "\n",
            "kanja.xlsx          100%[===================>]  29.34K   179KB/s    in 0.2s    \n",
            "\n",
            "2020-03-29 12:04:43 (179 KB/s) - ‘kanja.xlsx’ saved [30040/30040]\n",
            "\n"
          ],
          "name": "stdout"
        }
      ]
    },
    {
      "cell_type": "code",
      "metadata": {
        "id": "i0PyMRHkp4VP",
        "colab_type": "code",
        "colab": {}
      },
      "source": [
        "df_tmp = pd.read_excel(\"kanja.xlsx\", skiprows=3)"
      ],
      "execution_count": 0,
      "outputs": []
    },
    {
      "cell_type": "code",
      "metadata": {
        "id": "NboEXfE5J_Ec",
        "colab_type": "code",
        "colab": {}
      },
      "source": [
        "df_tmp.to_csv(\"kanaja.tsv\", sep=\"\\t\")"
      ],
      "execution_count": 0,
      "outputs": []
    },
    {
      "cell_type": "code",
      "metadata": {
        "id": "VXSe3toB9qVA",
        "colab_type": "code",
        "colab": {}
      },
      "source": [
        "df2 = df_tmp[df_tmp[\"番号\"].notnull()].copy()"
      ],
      "execution_count": 0,
      "outputs": []
    },
    {
      "cell_type": "code",
      "metadata": {
        "id": "fhY3y6MPp4X3",
        "colab_type": "code",
        "colab": {}
      },
      "source": [
        "# 空列を削除\n",
        "df2.dropna(how=\"all\", axis=1, inplace=True)"
      ],
      "execution_count": 0,
      "outputs": []
    },
    {
      "cell_type": "code",
      "metadata": {
        "id": "mlaNTM199ytv",
        "colab_type": "code",
        "colab": {}
      },
      "source": [
        "df2.columns = df2.columns.map(lambda s: s.replace(\"\\n\", \"\"))"
      ],
      "execution_count": 0,
      "outputs": []
    },
    {
      "cell_type": "code",
      "metadata": {
        "id": "GInBycJ897-X",
        "colab_type": "code",
        "colab": {}
      },
      "source": [
        "df2[\"番号\"] = df2[\"番号\"].astype(\"int64\")\n",
        "df2[\"年代\"] = df2[\"年代\"].astype(\"int64\")"
      ],
      "execution_count": 0,
      "outputs": []
    },
    {
      "cell_type": "code",
      "metadata": {
        "id": "PuT6EFhS-C9a",
        "colab_type": "code",
        "colab": {}
      },
      "source": [
        "df2[\"確認日\"] = df2[\"確認日\"].apply(lambda date: pd.to_datetime(date, unit='D', origin=pd.Timestamp('1899/12/30')))"
      ],
      "execution_count": 0,
      "outputs": []
    },
    {
      "cell_type": "code",
      "metadata": {
        "id": "7AQYYwZU-DBP",
        "colab_type": "code",
        "colab": {}
      },
      "source": [
        "df2[\"備考欄\"] = df2[\"備考欄\"].str.replace(\"\\n\", \"\")"
      ],
      "execution_count": 0,
      "outputs": []
    },
    {
      "cell_type": "code",
      "metadata": {
        "id": "8w18ZGocp4aW",
        "colab_type": "code",
        "colab": {}
      },
      "source": [
        "df2.set_index(\"番号\", inplace=True)"
      ],
      "execution_count": 0,
      "outputs": []
    },
    {
      "cell_type": "markdown",
      "metadata": {
        "id": "KJ5TiWg_qOCP",
        "colab_type": "text"
      },
      "source": [
        "## ※陽性患者数集計（累計）\n",
        "\n",
        "+ 陽性患者の属性の累計を確認"
      ]
    },
    {
      "cell_type": "code",
      "metadata": {
        "id": "s71kriS0p4hJ",
        "colab_type": "code",
        "outputId": "23d4627d-161a-40fa-d5e6-d25c37dee250",
        "colab": {
          "base_uri": "https://localhost:8080/"
        }
      },
      "source": [
        "len(df2)"
      ],
      "execution_count": 0,
      "outputs": [
        {
          "output_type": "execute_result",
          "data": {
            "text/plain": [
              "126"
            ]
          },
          "metadata": {
            "tags": []
          },
          "execution_count": 37
        }
      ]
    },
    {
      "cell_type": "markdown",
      "metadata": {
        "id": "HePs_cnnqSy4",
        "colab_type": "text"
      },
      "source": [
        "## ※陽性患者数集計（日別）\n",
        "\n",
        "+ 最新日付を確認\n",
        "+ 陽性患者数を確認"
      ]
    },
    {
      "cell_type": "code",
      "metadata": {
        "id": "F_SRePnbqMJ_",
        "colab_type": "code",
        "outputId": "3e1b0d52-eac3-4106-bad7-b84dec0a5e2e",
        "colab": {
          "base_uri": "https://localhost:8080/"
        }
      },
      "source": [
        "df2[\"確認日\"].value_counts().sort_index().reset_index().tail(10)"
      ],
      "execution_count": 0,
      "outputs": [
        {
          "output_type": "execute_result",
          "data": {
            "text/html": [
              "<div>\n",
              "<style scoped>\n",
              "    .dataframe tbody tr th:only-of-type {\n",
              "        vertical-align: middle;\n",
              "    }\n",
              "\n",
              "    .dataframe tbody tr th {\n",
              "        vertical-align: top;\n",
              "    }\n",
              "\n",
              "    .dataframe thead th {\n",
              "        text-align: right;\n",
              "    }\n",
              "</style>\n",
              "<table border=\"1\" class=\"dataframe\">\n",
              "  <thead>\n",
              "    <tr style=\"text-align: right;\">\n",
              "      <th></th>\n",
              "      <th>index</th>\n",
              "      <th>確認日</th>\n",
              "    </tr>\n",
              "  </thead>\n",
              "  <tbody>\n",
              "    <tr>\n",
              "      <th>16</th>\n",
              "      <td>2020-03-19</td>\n",
              "      <td>1</td>\n",
              "    </tr>\n",
              "    <tr>\n",
              "      <th>17</th>\n",
              "      <td>2020-03-20</td>\n",
              "      <td>8</td>\n",
              "    </tr>\n",
              "    <tr>\n",
              "      <th>18</th>\n",
              "      <td>2020-03-21</td>\n",
              "      <td>6</td>\n",
              "    </tr>\n",
              "    <tr>\n",
              "      <th>19</th>\n",
              "      <td>2020-03-22</td>\n",
              "      <td>4</td>\n",
              "    </tr>\n",
              "    <tr>\n",
              "      <th>20</th>\n",
              "      <td>2020-03-23</td>\n",
              "      <td>2</td>\n",
              "    </tr>\n",
              "    <tr>\n",
              "      <th>21</th>\n",
              "      <td>2020-03-24</td>\n",
              "      <td>5</td>\n",
              "    </tr>\n",
              "    <tr>\n",
              "      <th>22</th>\n",
              "      <td>2020-03-25</td>\n",
              "      <td>1</td>\n",
              "    </tr>\n",
              "    <tr>\n",
              "      <th>23</th>\n",
              "      <td>2020-03-26</td>\n",
              "      <td>1</td>\n",
              "    </tr>\n",
              "    <tr>\n",
              "      <th>24</th>\n",
              "      <td>2020-03-27</td>\n",
              "      <td>3</td>\n",
              "    </tr>\n",
              "    <tr>\n",
              "      <th>25</th>\n",
              "      <td>2020-03-28</td>\n",
              "      <td>3</td>\n",
              "    </tr>\n",
              "  </tbody>\n",
              "</table>\n",
              "</div>"
            ],
            "text/plain": [
              "        index  確認日\n",
              "16 2020-03-19    1\n",
              "17 2020-03-20    8\n",
              "18 2020-03-21    6\n",
              "19 2020-03-22    4\n",
              "20 2020-03-23    2\n",
              "21 2020-03-24    5\n",
              "22 2020-03-25    1\n",
              "23 2020-03-26    1\n",
              "24 2020-03-27    3\n",
              "25 2020-03-28    3"
            ]
          },
          "metadata": {
            "tags": []
          },
          "execution_count": 38
        }
      ]
    },
    {
      "cell_type": "code",
      "metadata": {
        "id": "ZEcQVQ95EQT2",
        "colab_type": "code",
        "outputId": "0141fca8-97dd-441f-bf5c-4aa1a118b618",
        "colab": {
          "base_uri": "https://localhost:8080/"
        }
      },
      "source": [
        "# 確認用\n",
        "df1.tail(10)"
      ],
      "execution_count": 0,
      "outputs": [
        {
          "output_type": "execute_result",
          "data": {
            "text/html": [
              "<div>\n",
              "<style scoped>\n",
              "    .dataframe tbody tr th:only-of-type {\n",
              "        vertical-align: middle;\n",
              "    }\n",
              "\n",
              "    .dataframe tbody tr th {\n",
              "        vertical-align: top;\n",
              "    }\n",
              "\n",
              "    .dataframe thead th {\n",
              "        text-align: right;\n",
              "    }\n",
              "</style>\n",
              "<table border=\"1\" class=\"dataframe\">\n",
              "  <thead>\n",
              "    <tr style=\"text-align: right;\">\n",
              "      <th></th>\n",
              "      <th>PCR検査件数</th>\n",
              "      <th>陽性件数</th>\n",
              "    </tr>\n",
              "    <tr>\n",
              "      <th>年月日</th>\n",
              "      <th></th>\n",
              "      <th></th>\n",
              "    </tr>\n",
              "  </thead>\n",
              "  <tbody>\n",
              "    <tr>\n",
              "      <th>2020-03-19</th>\n",
              "      <td>183</td>\n",
              "      <td>2</td>\n",
              "    </tr>\n",
              "    <tr>\n",
              "      <th>2020-03-20</th>\n",
              "      <td>124</td>\n",
              "      <td>8</td>\n",
              "    </tr>\n",
              "    <tr>\n",
              "      <th>2020-03-21</th>\n",
              "      <td>84</td>\n",
              "      <td>6</td>\n",
              "    </tr>\n",
              "    <tr>\n",
              "      <th>2020-03-22</th>\n",
              "      <td>89</td>\n",
              "      <td>4</td>\n",
              "    </tr>\n",
              "    <tr>\n",
              "      <th>2020-03-23</th>\n",
              "      <td>115</td>\n",
              "      <td>2</td>\n",
              "    </tr>\n",
              "    <tr>\n",
              "      <th>2020-03-24</th>\n",
              "      <td>133</td>\n",
              "      <td>5</td>\n",
              "    </tr>\n",
              "    <tr>\n",
              "      <th>2020-03-25</th>\n",
              "      <td>176</td>\n",
              "      <td>1</td>\n",
              "    </tr>\n",
              "    <tr>\n",
              "      <th>2020-03-26</th>\n",
              "      <td>90</td>\n",
              "      <td>1</td>\n",
              "    </tr>\n",
              "    <tr>\n",
              "      <th>2020-03-27</th>\n",
              "      <td>161</td>\n",
              "      <td>3</td>\n",
              "    </tr>\n",
              "    <tr>\n",
              "      <th>2020-03-28</th>\n",
              "      <td>100</td>\n",
              "      <td>3</td>\n",
              "    </tr>\n",
              "  </tbody>\n",
              "</table>\n",
              "</div>"
            ],
            "text/plain": [
              "            PCR検査件数  陽性件数\n",
              "年月日                      \n",
              "2020-03-19      183     2\n",
              "2020-03-20      124     8\n",
              "2020-03-21       84     6\n",
              "2020-03-22       89     4\n",
              "2020-03-23      115     2\n",
              "2020-03-24      133     5\n",
              "2020-03-25      176     1\n",
              "2020-03-26       90     1\n",
              "2020-03-27      161     3\n",
              "2020-03-28      100     3"
            ]
          },
          "metadata": {
            "tags": []
          },
          "execution_count": 39
        }
      ]
    },
    {
      "cell_type": "markdown",
      "metadata": {
        "id": "_Ve9uutPqYOn",
        "colab_type": "text"
      },
      "source": [
        "## 陽性患者の属性（10件）\n",
        "\n",
        "+ Noを最大値を確認（陽性患者数の合計と一致）\n",
        "+ 陽性患者の属性を確認\n",
        "+ 陽性患者数が10件以上の場合は20人に変更　head(20)、tail(20)に変更"
      ]
    },
    {
      "cell_type": "code",
      "metadata": {
        "id": "UCqZnGgJqMM2",
        "colab_type": "code",
        "outputId": "92b2338b-b041-4605-80d4-04daf7812c6b",
        "colab": {
          "base_uri": "https://localhost:8080/"
        }
      },
      "source": [
        "# 降順の場合\n",
        "df2.loc[:, [\"確認日\", \"居住地\", \"年代\", \"性別\", \"備考欄\"]].head(10)"
      ],
      "execution_count": 0,
      "outputs": [
        {
          "output_type": "execute_result",
          "data": {
            "text/html": [
              "<div>\n",
              "<style scoped>\n",
              "    .dataframe tbody tr th:only-of-type {\n",
              "        vertical-align: middle;\n",
              "    }\n",
              "\n",
              "    .dataframe tbody tr th {\n",
              "        vertical-align: top;\n",
              "    }\n",
              "\n",
              "    .dataframe thead th {\n",
              "        text-align: right;\n",
              "    }\n",
              "</style>\n",
              "<table border=\"1\" class=\"dataframe\">\n",
              "  <thead>\n",
              "    <tr style=\"text-align: right;\">\n",
              "      <th></th>\n",
              "      <th>確認日</th>\n",
              "      <th>居住地</th>\n",
              "      <th>年代</th>\n",
              "      <th>性別</th>\n",
              "      <th>備考欄</th>\n",
              "    </tr>\n",
              "    <tr>\n",
              "      <th>番号</th>\n",
              "      <th></th>\n",
              "      <th></th>\n",
              "      <th></th>\n",
              "      <th></th>\n",
              "      <th></th>\n",
              "    </tr>\n",
              "  </thead>\n",
              "  <tbody>\n",
              "    <tr>\n",
              "      <th>126</th>\n",
              "      <td>2020-03-28</td>\n",
              "      <td>宝塚市</td>\n",
              "      <td>30</td>\n",
              "      <td>男性</td>\n",
              "      <td>オランダからの帰国者</td>\n",
              "    </tr>\n",
              "    <tr>\n",
              "      <th>125</th>\n",
              "      <td>2020-03-28</td>\n",
              "      <td>伊丹健康福祉事務所管内</td>\n",
              "      <td>50</td>\n",
              "      <td>男性</td>\n",
              "      <td>大阪府が3月26日に公表した患者(40代男性・会社員・大阪市居住)の濃厚接触者</td>\n",
              "    </tr>\n",
              "    <tr>\n",
              "      <th>124</th>\n",
              "      <td>2020-03-28</td>\n",
              "      <td>姫路市</td>\n",
              "      <td>40</td>\n",
              "      <td>男性</td>\n",
              "      <td>行動歴調査中</td>\n",
              "    </tr>\n",
              "    <tr>\n",
              "      <th>123</th>\n",
              "      <td>2020-03-27</td>\n",
              "      <td>東京都</td>\n",
              "      <td>30</td>\n",
              "      <td>女性</td>\n",
              "      <td>行動歴調査中</td>\n",
              "    </tr>\n",
              "    <tr>\n",
              "      <th>122</th>\n",
              "      <td>2020-03-27</td>\n",
              "      <td>神戸市</td>\n",
              "      <td>10</td>\n",
              "      <td>女性</td>\n",
              "      <td>海外からの帰国者</td>\n",
              "    </tr>\n",
              "    <tr>\n",
              "      <th>121</th>\n",
              "      <td>2020-03-27</td>\n",
              "      <td>神戸市</td>\n",
              "      <td>50</td>\n",
              "      <td>女性</td>\n",
              "      <td>行動歴調査中</td>\n",
              "    </tr>\n",
              "    <tr>\n",
              "      <th>120</th>\n",
              "      <td>2020-03-26</td>\n",
              "      <td>伊丹市</td>\n",
              "      <td>70</td>\n",
              "      <td>女性</td>\n",
              "      <td>NO.22介護老人保健施設グリーンアルス伊丹デイケア利用者の濃厚接触者</td>\n",
              "    </tr>\n",
              "    <tr>\n",
              "      <th>119</th>\n",
              "      <td>2020-03-25</td>\n",
              "      <td>宝塚市</td>\n",
              "      <td>20</td>\n",
              "      <td>女性</td>\n",
              "      <td>NO.27、64、77、78宝塚第一病院患者の濃厚接触者</td>\n",
              "    </tr>\n",
              "    <tr>\n",
              "      <th>118</th>\n",
              "      <td>2020-03-24</td>\n",
              "      <td>西宮市</td>\n",
              "      <td>80</td>\n",
              "      <td>男性</td>\n",
              "      <td>行動歴調査中</td>\n",
              "    </tr>\n",
              "    <tr>\n",
              "      <th>117</th>\n",
              "      <td>2020-03-24</td>\n",
              "      <td>西宮市</td>\n",
              "      <td>20</td>\n",
              "      <td>男性</td>\n",
              "      <td>NO.21に救急外来当直として対応</td>\n",
              "    </tr>\n",
              "  </tbody>\n",
              "</table>\n",
              "</div>"
            ],
            "text/plain": [
              "           確認日          居住地  年代  性別                                      備考欄\n",
              "番号                                                                          \n",
              "126 2020-03-28          宝塚市  30  男性                               オランダからの帰国者\n",
              "125 2020-03-28  伊丹健康福祉事務所管内  50  男性  大阪府が3月26日に公表した患者(40代男性・会社員・大阪市居住)の濃厚接触者\n",
              "124 2020-03-28          姫路市  40  男性                                   行動歴調査中\n",
              "123 2020-03-27          東京都  30  女性                                   行動歴調査中\n",
              "122 2020-03-27          神戸市  10  女性                                 海外からの帰国者\n",
              "121 2020-03-27          神戸市  50  女性                                   行動歴調査中\n",
              "120 2020-03-26          伊丹市  70  女性      NO.22介護老人保健施設グリーンアルス伊丹デイケア利用者の濃厚接触者\n",
              "119 2020-03-25          宝塚市  20  女性             NO.27、64、77、78宝塚第一病院患者の濃厚接触者\n",
              "118 2020-03-24          西宮市  80  男性                                   行動歴調査中\n",
              "117 2020-03-24          西宮市  20  男性                        NO.21に救急外来当直として対応"
            ]
          },
          "metadata": {
            "tags": []
          },
          "execution_count": 40
        }
      ]
    },
    {
      "cell_type": "markdown",
      "metadata": {
        "id": "nA3wyNw-qauf",
        "colab_type": "text"
      },
      "source": [
        "## ※年代集計\n",
        "\n",
        "+ 年代別陽性患者数の確認"
      ]
    },
    {
      "cell_type": "code",
      "metadata": {
        "id": "YIe5D6CMqMPn",
        "colab_type": "code",
        "outputId": "d12b90cb-ee4d-498b-ef3c-8e98809e6875",
        "colab": {
          "base_uri": "https://localhost:8080/"
        }
      },
      "source": [
        "df2[\"年代\"].value_counts().sort_index()"
      ],
      "execution_count": 0,
      "outputs": [
        {
          "output_type": "execute_result",
          "data": {
            "text/plain": [
              "10     1\n",
              "20     8\n",
              "30     7\n",
              "40    22\n",
              "50    24\n",
              "60     8\n",
              "70    24\n",
              "80    29\n",
              "90     3\n",
              "Name: 年代, dtype: int64"
            ]
          },
          "metadata": {
            "tags": []
          },
          "execution_count": 41
        }
      ]
    },
    {
      "cell_type": "markdown",
      "metadata": {
        "id": "nsIL80-1wlgE",
        "colab_type": "text"
      },
      "source": [
        "## クラスタ確認（Excelより抽出）\n",
        "\n",
        "+ クラスター別陽性患者数の確認"
      ]
    },
    {
      "cell_type": "code",
      "metadata": {
        "id": "xDLp2f_JwkP2",
        "colab_type": "code",
        "colab": {}
      },
      "source": [
        "df3 = df_tmp[df_tmp[\"番号\"].isnull()].copy()\n",
        "\n",
        "# 空列を削除\n",
        "df3.dropna(how='all', axis=1, inplace=True)"
      ],
      "execution_count": 0,
      "outputs": []
    },
    {
      "cell_type": "code",
      "metadata": {
        "id": "KpeAlon4wkqb",
        "colab_type": "code",
        "outputId": "e9fd3716-2c7a-47c6-de19-c0b000793f4a",
        "colab": {
          "base_uri": "https://localhost:8080/"
        }
      },
      "source": [
        "df3"
      ],
      "execution_count": 0,
      "outputs": [
        {
          "output_type": "execute_result",
          "data": {
            "text/html": [
              "<div>\n",
              "<style scoped>\n",
              "    .dataframe tbody tr th:only-of-type {\n",
              "        vertical-align: middle;\n",
              "    }\n",
              "\n",
              "    .dataframe tbody tr th {\n",
              "        vertical-align: top;\n",
              "    }\n",
              "\n",
              "    .dataframe thead th {\n",
              "        text-align: right;\n",
              "    }\n",
              "</style>\n",
              "<table border=\"1\" class=\"dataframe\">\n",
              "  <thead>\n",
              "    <tr style=\"text-align: right;\">\n",
              "      <th></th>\n",
              "      <th>備考欄</th>\n",
              "      <th>認定こども園</th>\n",
              "      <th>北播磨医療センター</th>\n",
              "      <th>宝塚第一病院</th>\n",
              "      <th>仁恵\\n病院</th>\n",
              "      <th>グリーンアルス</th>\n",
              "      <th>介護保険通所事業所</th>\n",
              "      <th>Unnamed: 17</th>\n",
              "      <th>ライブ関係</th>\n",
              "      <th>海外\\n渡航者</th>\n",
              "      <th>その他</th>\n",
              "      <th>不明</th>\n",
              "      <th>Unnamed: 22</th>\n",
              "    </tr>\n",
              "  </thead>\n",
              "  <tbody>\n",
              "    <tr>\n",
              "      <th>126</th>\n",
              "      <td>延べ人数</td>\n",
              "      <td>8</td>\n",
              "      <td>5</td>\n",
              "      <td>8</td>\n",
              "      <td>14</td>\n",
              "      <td>51</td>\n",
              "      <td>7</td>\n",
              "      <td>0.0</td>\n",
              "      <td>13</td>\n",
              "      <td>10</td>\n",
              "      <td>3</td>\n",
              "      <td>11</td>\n",
              "      <td>NaN</td>\n",
              "    </tr>\n",
              "    <tr>\n",
              "      <th>127</th>\n",
              "      <td>うち重複</td>\n",
              "      <td>NaN</td>\n",
              "      <td>NaN</td>\n",
              "      <td>1</td>\n",
              "      <td>NaN</td>\n",
              "      <td>1</td>\n",
              "      <td>3</td>\n",
              "      <td>NaN</td>\n",
              "      <td>3</td>\n",
              "      <td>NaN</td>\n",
              "      <td>NaN</td>\n",
              "      <td>NaN</td>\n",
              "      <td>）</td>\n",
              "    </tr>\n",
              "    <tr>\n",
              "      <th>128</th>\n",
              "      <td>退院</td>\n",
              "      <td>NaN</td>\n",
              "      <td>NaN</td>\n",
              "      <td>NaN</td>\n",
              "      <td>NaN</td>\n",
              "      <td>NaN</td>\n",
              "      <td>NaN</td>\n",
              "      <td>NaN</td>\n",
              "      <td>NaN</td>\n",
              "      <td>NaN</td>\n",
              "      <td>NaN</td>\n",
              "      <td>NaN</td>\n",
              "      <td>NaN</td>\n",
              "    </tr>\n",
              "    <tr>\n",
              "      <th>129</th>\n",
              "      <td>入院中（重症）</td>\n",
              "      <td>NaN</td>\n",
              "      <td>NaN</td>\n",
              "      <td>NaN</td>\n",
              "      <td>NaN</td>\n",
              "      <td>NaN</td>\n",
              "      <td>NaN</td>\n",
              "      <td>NaN</td>\n",
              "      <td>NaN</td>\n",
              "      <td>NaN</td>\n",
              "      <td>NaN</td>\n",
              "      <td>NaN</td>\n",
              "      <td>NaN</td>\n",
              "    </tr>\n",
              "    <tr>\n",
              "      <th>130</th>\n",
              "      <td>死亡</td>\n",
              "      <td>NaN</td>\n",
              "      <td>NaN</td>\n",
              "      <td>NaN</td>\n",
              "      <td>NaN</td>\n",
              "      <td>NaN</td>\n",
              "      <td>NaN</td>\n",
              "      <td>NaN</td>\n",
              "      <td>NaN</td>\n",
              "      <td>NaN</td>\n",
              "      <td>NaN</td>\n",
              "      <td>NaN</td>\n",
              "      <td>NaN</td>\n",
              "    </tr>\n",
              "    <tr>\n",
              "      <th>131</th>\n",
              "      <td>入院中(中等症以下)</td>\n",
              "      <td>NaN</td>\n",
              "      <td>NaN</td>\n",
              "      <td>NaN</td>\n",
              "      <td>NaN</td>\n",
              "      <td>NaN</td>\n",
              "      <td>NaN</td>\n",
              "      <td>NaN</td>\n",
              "      <td>NaN</td>\n",
              "      <td>NaN</td>\n",
              "      <td>NaN</td>\n",
              "      <td>NaN</td>\n",
              "      <td>NaN</td>\n",
              "    </tr>\n",
              "  </tbody>\n",
              "</table>\n",
              "</div>"
            ],
            "text/plain": [
              "            備考欄 認定こども園 北播磨医療センター 宝塚第一病院  ... 海外\\n渡航者  その他   不明  Unnamed: 22\n",
              "126        延べ人数      8         5      8  ...      10    3   11          NaN\n",
              "127        うち重複    NaN       NaN      1  ...     NaN  NaN  NaN            ）\n",
              "128          退院    NaN       NaN    NaN  ...     NaN  NaN  NaN          NaN\n",
              "129     入院中（重症）    NaN       NaN    NaN  ...     NaN  NaN  NaN          NaN\n",
              "130          死亡    NaN       NaN    NaN  ...     NaN  NaN  NaN          NaN\n",
              "131  入院中(中等症以下)    NaN       NaN    NaN  ...     NaN  NaN  NaN          NaN\n",
              "\n",
              "[6 rows x 13 columns]"
            ]
          },
          "metadata": {
            "tags": []
          },
          "execution_count": 43
        }
      ]
    },
    {
      "cell_type": "markdown",
      "metadata": {
        "id": "r_3UmiSmqfO2",
        "colab_type": "text"
      },
      "source": [
        "## ※クラスタ集計\n",
        "\n",
        "+ クラスター別陽性患者数の確認"
      ]
    },
    {
      "cell_type": "code",
      "metadata": {
        "id": "-vF0lbp9qMSm",
        "colab_type": "code",
        "outputId": "d1ec80b6-ad1d-4bd6-b9b5-6fec703bfc6c",
        "colab": {
          "base_uri": "https://localhost:8080/"
        }
      },
      "source": [
        "# クラスタのみを抽出\n",
        "df4 = df2.loc[:, \"認定こども園\":].copy()\n",
        "\n",
        "# クラスタ別にカウント\n",
        "df4.notnull().sum()"
      ],
      "execution_count": 0,
      "outputs": [
        {
          "output_type": "execute_result",
          "data": {
            "text/plain": [
              "認定こども園        8\n",
              "北播磨医療センター     5\n",
              "宝塚第一病院        8\n",
              "仁恵病院         14\n",
              "グリーンアルス      51\n",
              "介護保険通所事業所     7\n",
              "ライブ関係        13\n",
              "海外渡航者        10\n",
              "その他           3\n",
              "不明           11\n",
              "dtype: int64"
            ]
          },
          "metadata": {
            "tags": []
          },
          "execution_count": 44
        }
      ]
    },
    {
      "cell_type": "markdown",
      "metadata": {
        "id": "iEc_y-ysD0A2",
        "colab_type": "text"
      },
      "source": [
        "## 該当なし"
      ]
    },
    {
      "cell_type": "code",
      "metadata": {
        "id": "S_HJ1LriDyUJ",
        "colab_type": "code",
        "outputId": "5a9849c7-c7b2-4ce0-e0af-ffebb949ce82",
        "colab": {
          "base_uri": "https://localhost:8080/"
        }
      },
      "source": [
        "df4.isnull().all(axis=1).sum()"
      ],
      "execution_count": 0,
      "outputs": [
        {
          "output_type": "execute_result",
          "data": {
            "text/plain": [
              "0"
            ]
          },
          "metadata": {
            "tags": []
          },
          "execution_count": 45
        }
      ]
    },
    {
      "cell_type": "markdown",
      "metadata": {
        "id": "anCWM8WRqqxG",
        "colab_type": "text"
      },
      "source": [
        "## ※重複者集計\n",
        "\n",
        "+ クラスタ別陽性患者数の確認"
      ]
    },
    {
      "cell_type": "code",
      "metadata": {
        "id": "dvpmaSbXqqfP",
        "colab_type": "code",
        "outputId": "66674f1d-dde0-4421-c9c2-a032ebb3c5b1",
        "colab": {
          "base_uri": "https://localhost:8080/"
        }
      },
      "source": [
        "# クラスタの〇の数をカウントして2箇所以上の人をカウント\n",
        "duplication = df4.notnull().sum(axis=1) > 1\n",
        "duplication.sum()"
      ],
      "execution_count": 0,
      "outputs": [
        {
          "output_type": "execute_result",
          "data": {
            "text/plain": [
              "4"
            ]
          },
          "metadata": {
            "tags": []
          },
          "execution_count": 46
        }
      ]
    }
  ]
}